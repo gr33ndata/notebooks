{
 "cells": [
  {
   "cell_type": "markdown",
   "metadata": {},
   "source": [
    "# Topic Modeling using Python"
   ]
  },
  {
   "cell_type": "markdown",
   "metadata": {},
   "source": [
    "Latent Semantic Indexing (LSI) is a method for discovering hidden concepts in document data. In Vector space model (VSM) documents are represented by the occurences of the different words (terms) in them, i.e. vecotrs of terms. Nevertheless, documents in general are about different topics. We are going to use Singular Value Decomposition (SVD) here to reveal such topics. "
   ]
  },
  {
   "cell_type": "markdown",
   "metadata": {},
   "source": [
    "Here is a list of documents, each is composed of different terms."
   ]
  },
  {
   "cell_type": "code",
   "execution_count": 43,
   "metadata": {
    "collapsed": true
   },
   "outputs": [],
   "source": [
    "documents = [\n",
    "    'alice likes gadgets',\n",
    "    'bob likes sweets',\n",
    "    'alice likes cars',\n",
    "    'bob likes chocolate',\n",
    "    'alice likes python',\n",
    "    'bob likes java'\n",
    "]"
   ]
  },
  {
   "cell_type": "code",
   "execution_count": null,
   "metadata": {
    "collapsed": true
   },
   "outputs": [],
   "source": [
    "import numpy as np\n",
    "import pandas as pd"
   ]
  },
  {
   "cell_type": "markdown",
   "metadata": {},
   "source": [
    "## Create Vector Space Model"
   ]
  },
  {
   "cell_type": "markdown",
   "metadata": {},
   "source": [
    "We are going to use Scikit learn to convert them into a vector space. Will not use TF.IDF here."
   ]
  },
  {
   "cell_type": "code",
   "execution_count": 44,
   "metadata": {
    "collapsed": false
   },
   "outputs": [],
   "source": [
    "from sklearn.feature_extraction.text import CountVectorizer\n",
    "\n",
    "vectorizer = CountVectorizer(min_df=1) \n",
    "vsm = vectorizer.fit_transform(documents) \n",
    "vsm = vsm.toarray() "
   ]
  },
  {
   "cell_type": "code",
   "execution_count": 98,
   "metadata": {
    "collapsed": false
   },
   "outputs": [],
   "source": [
    "vocabulary = vectorizer.get_feature_names() \n",
    "vsm_df = pd.DataFrame(vsm, columns=vocabulary)"
   ]
  },
  {
   "cell_type": "markdown",
   "metadata": {},
   "source": [
    "As you can see here, we have 6 documents, 9 terms, and a matrix showing how frequent each term in each document. Each term here appears either once or doesn't appear at all in the document. In real life, terms may appear more that once in a decument, easpecially with much longer documents; think of a web page as a single document."
   ]
  },
  {
   "cell_type": "code",
   "execution_count": 99,
   "metadata": {
    "collapsed": false
   },
   "outputs": [
    {
     "name": "stdout",
     "output_type": "stream",
     "text": [
      "   alice  bob  cars  chocolate  gadgets  java  likes  python  sweets\n",
      "0      1    0     0          0        1     0      1       0       0\n",
      "1      0    1     0          0        0     0      1       0       1\n",
      "2      1    0     1          0        0     0      1       0       0\n",
      "3      0    1     0          1        0     0      1       0       0\n",
      "4      1    0     0          0        0     0      1       1       0\n",
      "5      0    1     0          0        0     1      1       0       0\n"
     ]
    }
   ],
   "source": [
    "print vsm_df"
   ]
  },
  {
   "cell_type": "markdown",
   "metadata": {},
   "source": [
    "## Singular Value Decomposition (SVD)"
   ]
  },
  {
   "cell_type": "markdown",
   "metadata": {},
   "source": [
    "We are using Singular Value Decomposition in Numpy. The imput matrix (out svm), is decomposed into 3 matrices, U, s and V. Actually, the third of the three is conjugate transpose of V, but numpy returns the transposed matrix anyway. We get (small letter s) as a vector, but we will convert it into matrix (capital letter S) in a moment. "
   ]
  },
  {
   "cell_type": "code",
   "execution_count": 100,
   "metadata": {
    "collapsed": false
   },
   "outputs": [],
   "source": [
    "U, s, V = np.linalg.svd(vsm)\n",
    "\n",
    "# print u.shape, np.diag(s).shape, v.shape\n",
    "# (6, 6) (6, 6) (9, 9)"
   ]
  },
  {
   "cell_type": "markdown",
   "metadata": {},
   "source": [
    "To convert U, s and V into the original SVM, you just convert s into S, and return the dot product of the 3 matrices. Never mind the slight differences between the original and the returned matrixs, you know, computer ain't perfect."
   ]
  },
  {
   "cell_type": "code",
   "execution_count": 101,
   "metadata": {
    "collapsed": false
   },
   "outputs": [
    {
     "data": {
      "text/plain": [
       "array([[  1.00000000e+00,   1.81298661e-16,   5.55111512e-17,\n",
       "         -9.09531586e-17,   1.00000000e+00,  -8.79796769e-17,\n",
       "          1.00000000e+00,   0.00000000e+00,   2.22044605e-16],\n",
       "       [ -2.99954345e-16,   1.00000000e+00,   2.93606963e-16,\n",
       "          4.33680869e-17,  -1.11669288e-15,  -4.33680869e-17,\n",
       "          1.00000000e+00,   4.22627021e-16,   1.00000000e+00],\n",
       "       [  1.00000000e+00,   4.59711739e-16,   1.00000000e+00,\n",
       "          5.29645297e-17,   1.11022302e-16,   3.66488066e-16,\n",
       "          1.00000000e+00,  -5.55111512e-17,   8.32667268e-17],\n",
       "       [ -1.20828713e-16,   1.00000000e+00,   3.40134432e-16,\n",
       "          1.00000000e+00,  -6.20500092e-16,   1.11022302e-16,\n",
       "          1.00000000e+00,   4.87008878e-17,  -1.94289029e-16],\n",
       "       [  1.00000000e+00,   5.24723776e-16,  -2.49800181e-16,\n",
       "          4.97053740e-16,  -2.77555756e-16,   1.72199037e-16,\n",
       "          1.00000000e+00,   1.00000000e+00,  -8.32667268e-17],\n",
       "       [ -1.34328455e-16,   1.00000000e+00,   1.95690971e-16,\n",
       "         -1.66533454e-16,  -5.90841342e-16,   1.00000000e+00,\n",
       "          1.00000000e+00,   2.51202122e-16,   2.22044605e-16]])"
      ]
     },
     "execution_count": 101,
     "metadata": {},
     "output_type": "execute_result"
    }
   ],
   "source": [
    "S = np.zeros((U.shape[1], V.shape[0]))\n",
    "S[:6, :6] = np.diag(s)\n",
    "\n",
    "np.dot(U,np.dot(S,V))"
   ]
  },
  {
   "cell_type": "markdown",
   "metadata": {},
   "source": [
    "## Topics"
   ]
  },
  {
   "cell_type": "markdown",
   "metadata": {},
   "source": [
    "S is the singular values, in our case here, these are the topics. In practice, you remove all small values of s, set them to zero; the number of non-zero values are your topics. There is no silver bullet for selecting a good number of topics. We here are going to try 2 topics. Convert U, S, and V accordingly.  "
   ]
  },
  {
   "cell_type": "code",
   "execution_count": 103,
   "metadata": {
    "collapsed": false
   },
   "outputs": [],
   "source": [
    "topics = 2\n",
    "\n",
    "U_ = U[:,0:topics]\n",
    "V_ = V[0:topics,:]\n",
    "S_ = np.diag(s[0:topics])\n",
    "\n",
    "# print U_.shape, S_.shape, V_.shape\n",
    "# (6, topics) (topics, topics) (topics, 9)"
   ]
  },
  {
   "cell_type": "markdown",
   "metadata": {},
   "source": [
    "Now we can have two new matrices, one for the documents and topics co-occurences, and one for the topics and terms co-occurences. Notice, topics are shown as columns below. Try altering the value of topics = 2 above and run again."
   ]
  },
  {
   "cell_type": "code",
   "execution_count": 102,
   "metadata": {
    "collapsed": false
   },
   "outputs": [
    {
     "name": "stdout",
     "output_type": "stream",
     "text": [
      "          0         1\n",
      "0 -1.290994 -0.816497\n",
      "1 -1.290994  0.816497\n",
      "2 -1.290994 -0.816497\n",
      "3 -1.290994  0.816497\n",
      "4 -1.290994 -0.816497\n",
      "5 -1.290994  0.816497\n",
      "                  0             1\n",
      "alice     -1.224745 -1.224745e+00\n",
      "bob       -1.224745  1.224745e+00\n",
      "cars      -0.408248 -4.082483e-01\n",
      "chocolate -0.408248  4.082483e-01\n",
      "gadgets   -0.408248 -4.082483e-01\n",
      "java      -0.408248  4.082483e-01\n",
      "likes     -2.449490 -5.551115e-16\n",
      "python    -0.408248 -4.082483e-01\n",
      "sweets    -0.408248  4.082483e-01\n"
     ]
    }
   ],
   "source": [
    "documents_topics = np.dot(U_,S_)\n",
    "topics_terms = np.dot(S_,V_)\n",
    "\n",
    "documents_topics_df = pd.DataFrame(documents_topics, columns=range(topics))\n",
    "terms_topics_df = pd.DataFrame(topics_terms.T, columns=range(topics), index=vocabulary)\n",
    "\n",
    "print documents_topics_df\n",
    "print terms_topics_df"
   ]
  },
  {
   "cell_type": "markdown",
   "metadata": {},
   "source": [
    "Topic 0 seems to be more of general topic for the 6 documents, while topic 1 seems to differentiate between the two persons and their preferences. See how related terms are shown together what sorted the terms_topics_df according to term 1."
   ]
  },
  {
   "cell_type": "code",
   "execution_count": 97,
   "metadata": {
    "collapsed": false
   },
   "outputs": [
    {
     "name": "stdout",
     "output_type": "stream",
     "text": [
      "Terms sorted according to topic 1\n",
      "\n",
      "alice       -1.224745e+00\n",
      "gadgets     -4.082483e-01\n",
      "cars        -4.082483e-01\n",
      "python      -4.082483e-01\n",
      "likes       -5.551115e-16\n",
      "chocolate    4.082483e-01\n",
      "java         4.082483e-01\n",
      "sweets       4.082483e-01\n",
      "bob          1.224745e+00\n",
      "Name: 1, dtype: float64\n",
      "\n",
      "\n",
      "Documents sorted according to topic 1\n",
      "\n",
      "0   -0.816497\n",
      "2   -0.816497\n",
      "4   -0.816497\n",
      "3    0.816497\n",
      "5    0.816497\n",
      "1    0.816497\n",
      "Name: 1, dtype: float64\n"
     ]
    }
   ],
   "source": [
    "t = 1\n",
    "\n",
    "print 'Terms sorted according to topic {}\\n'.format(t)\n",
    "print terms_topics_df.sort([t])[t]\n",
    "\n",
    "print '\\n'\n",
    "\n",
    "print 'Documents sorted according to topic {}\\n'.format(t)\n",
    "print documents_topics_df.sort([t])[t]"
   ]
  },
  {
   "cell_type": "markdown",
   "metadata": {},
   "source": [
    "We can try restoring our VSM from the new U, S and V. This time, I will remove very small values to make it clearer."
   ]
  },
  {
   "cell_type": "code",
   "execution_count": 109,
   "metadata": {
    "collapsed": false
   },
   "outputs": [
    {
     "data": {
      "text/html": [
       "<div style=\"max-height:1000px;max-width:1500px;overflow:auto;\">\n",
       "<table border=\"1\" class=\"dataframe\">\n",
       "  <thead>\n",
       "    <tr style=\"text-align: right;\">\n",
       "      <th></th>\n",
       "      <th>alice</th>\n",
       "      <th>bob</th>\n",
       "      <th>cars</th>\n",
       "      <th>chocolate</th>\n",
       "      <th>gadgets</th>\n",
       "      <th>java</th>\n",
       "      <th>likes</th>\n",
       "      <th>python</th>\n",
       "      <th>sweets</th>\n",
       "    </tr>\n",
       "  </thead>\n",
       "  <tbody>\n",
       "    <tr>\n",
       "      <th>0</th>\n",
       "      <td> 1</td>\n",
       "      <td> 0</td>\n",
       "      <td> 0.333333</td>\n",
       "      <td> 0.000000</td>\n",
       "      <td> 0.333333</td>\n",
       "      <td> 0.000000</td>\n",
       "      <td> 1</td>\n",
       "      <td> 0.333333</td>\n",
       "      <td> 0.000000</td>\n",
       "    </tr>\n",
       "    <tr>\n",
       "      <th>1</th>\n",
       "      <td> 0</td>\n",
       "      <td> 1</td>\n",
       "      <td> 0.000000</td>\n",
       "      <td> 0.333333</td>\n",
       "      <td> 0.000000</td>\n",
       "      <td> 0.333333</td>\n",
       "      <td> 1</td>\n",
       "      <td> 0.000000</td>\n",
       "      <td> 0.333333</td>\n",
       "    </tr>\n",
       "    <tr>\n",
       "      <th>2</th>\n",
       "      <td> 1</td>\n",
       "      <td> 0</td>\n",
       "      <td> 0.333333</td>\n",
       "      <td> 0.000000</td>\n",
       "      <td> 0.333333</td>\n",
       "      <td> 0.000000</td>\n",
       "      <td> 1</td>\n",
       "      <td> 0.333333</td>\n",
       "      <td> 0.000000</td>\n",
       "    </tr>\n",
       "    <tr>\n",
       "      <th>3</th>\n",
       "      <td> 0</td>\n",
       "      <td> 1</td>\n",
       "      <td> 0.000000</td>\n",
       "      <td> 0.333333</td>\n",
       "      <td> 0.000000</td>\n",
       "      <td> 0.333333</td>\n",
       "      <td> 1</td>\n",
       "      <td> 0.000000</td>\n",
       "      <td> 0.333333</td>\n",
       "    </tr>\n",
       "    <tr>\n",
       "      <th>4</th>\n",
       "      <td> 1</td>\n",
       "      <td> 0</td>\n",
       "      <td> 0.333333</td>\n",
       "      <td> 0.000000</td>\n",
       "      <td> 0.333333</td>\n",
       "      <td> 0.000000</td>\n",
       "      <td> 1</td>\n",
       "      <td> 0.333333</td>\n",
       "      <td> 0.000000</td>\n",
       "    </tr>\n",
       "    <tr>\n",
       "      <th>5</th>\n",
       "      <td> 0</td>\n",
       "      <td> 1</td>\n",
       "      <td> 0.000000</td>\n",
       "      <td> 0.333333</td>\n",
       "      <td> 0.000000</td>\n",
       "      <td> 0.333333</td>\n",
       "      <td> 1</td>\n",
       "      <td> 0.000000</td>\n",
       "      <td> 0.333333</td>\n",
       "    </tr>\n",
       "  </tbody>\n",
       "</table>\n",
       "</div>"
      ],
      "text/plain": [
       "   alice  bob      cars  chocolate   gadgets      java  likes    python  \\\n",
       "0      1    0  0.333333   0.000000  0.333333  0.000000      1  0.333333   \n",
       "1      0    1  0.000000   0.333333  0.000000  0.333333      1  0.000000   \n",
       "2      1    0  0.333333   0.000000  0.333333  0.000000      1  0.333333   \n",
       "3      0    1  0.000000   0.333333  0.000000  0.333333      1  0.000000   \n",
       "4      1    0  0.333333   0.000000  0.333333  0.000000      1  0.333333   \n",
       "5      0    1  0.000000   0.333333  0.000000  0.333333      1  0.000000   \n",
       "\n",
       "     sweets  \n",
       "0  0.000000  \n",
       "1  0.333333  \n",
       "2  0.000000  \n",
       "3  0.333333  \n",
       "4  0.000000  \n",
       "5  0.333333  "
      ]
     },
     "execution_count": 109,
     "metadata": {},
     "output_type": "execute_result"
    }
   ],
   "source": [
    "vsm_ = np.dot(U_,np.dot(S_,V_))\n",
    "vsm_[vsm_ < 0.01] = 0\n",
    "pd.DataFrame(vsm_, columns=vocabulary) "
   ]
  },
  {
   "cell_type": "markdown",
   "metadata": {},
   "source": [
    "See how terms like cars, python and gadgete, now have weights even in documents it are not in. This is because they belong to the same topic, so we assume they share a common meaning."
   ]
  },
  {
   "cell_type": "markdown",
   "metadata": {},
   "source": [
    "## References\n",
    "\n",
    "* [Latent Semantic Analysis Tutorial](http://www.engr.uvic.ca/~seng474/svd.pdf)\n",
    "* [NumPy SVD](http://docs.scipy.org/doc/numpy-1.10.0/reference/generated/numpy.linalg.svd.html)"
   ]
  }
 ],
 "metadata": {
  "kernelspec": {
   "display_name": "Python 2",
   "language": "python",
   "name": "python2"
  },
  "language_info": {
   "codemirror_mode": {
    "name": "ipython",
    "version": 2
   },
   "file_extension": ".py",
   "mimetype": "text/x-python",
   "name": "python",
   "nbconvert_exporter": "python",
   "pygments_lexer": "ipython2",
   "version": "2.7.10"
  }
 },
 "nbformat": 4,
 "nbformat_minor": 0
}
