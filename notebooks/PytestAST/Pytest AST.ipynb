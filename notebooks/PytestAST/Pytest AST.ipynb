{
 "cells": [
  {
   "cell_type": "markdown",
   "id": "65c6029b",
   "metadata": {
    "slideshow": {
     "slide_type": "slide"
    }
   },
   "source": [
    "# Pytest's Assert is not what you think it is"
   ]
  },
  {
   "cell_type": "code",
   "execution_count": 2,
   "id": "91364b23",
   "metadata": {
    "slideshow": {
     "slide_type": "skip"
    }
   },
   "outputs": [],
   "source": [
    "import sys\n",
    "\n",
    "sys.stderr = sys.stdout"
   ]
  },
  {
   "cell_type": "code",
   "execution_count": 3,
   "id": "be760637",
   "metadata": {
    "slideshow": {
     "slide_type": "slide"
    }
   },
   "outputs": [
    {
     "ename": "AssertionError",
     "evalue": "",
     "output_type": "error",
     "traceback": [
      "\u001b[0;31m---------------------------------------------------------------------------\u001b[0m",
      "\u001b[0;31mAssertionError\u001b[0m                            Traceback (most recent call last)",
      "Input \u001b[0;32mIn [3]\u001b[0m, in \u001b[0;36m<cell line: 1>\u001b[0;34m()\u001b[0m\n\u001b[0;32m----> 1\u001b[0m \u001b[38;5;28;01massert\u001b[39;00m [\u001b[38;5;241m1\u001b[39m, \u001b[38;5;241m2\u001b[39m, \u001b[38;5;241m3\u001b[39m] \u001b[38;5;241m==\u001b[39m [\u001b[38;5;241m1\u001b[39m, \u001b[38;5;241m2\u001b[39m, \u001b[38;5;241m4\u001b[39m]\n",
      "\u001b[0;31mAssertionError\u001b[0m: "
     ]
    }
   ],
   "source": [
    "assert [1, 2, 3] == [1, 2, 4]"
   ]
  },
  {
   "cell_type": "code",
   "execution_count": 4,
   "id": "e1c874cc",
   "metadata": {
    "slideshow": {
     "slide_type": "slide"
    }
   },
   "outputs": [
    {
     "name": "stdout",
     "output_type": "stream",
     "text": [
      "======================================================================\n",
      "FAIL: test_equal (__main__.TestNotebook)\n",
      "----------------------------------------------------------------------\n",
      "Traceback (most recent call last):\n",
      "  File \"/var/folders/d8/5h2yzdf10l1g61kn0zdfs08h0000gn/T/ipykernel_95563/2387129866.py\", line 5, in test_equal\n",
      "    self.assertEqual([1, 2, 3], [1, 2, 4])\n",
      "AssertionError: Lists differ: [1, 2, 3] != [1, 2, 4]\n",
      "\n",
      "First differing element 2:\n",
      "3\n",
      "4\n",
      "\n",
      "- [1, 2, 3]\n",
      "?        ^\n",
      "\n",
      "+ [1, 2, 4]\n",
      "?        ^\n",
      "\n",
      "\n",
      "----------------------------------------------------------------------\n",
      "Ran 1 test in 0.001s\n",
      "\n",
      "FAILED (failures=1)\n"
     ]
    },
    {
     "data": {
      "text/plain": [
       "<unittest.main.TestProgram at 0x107cfb8b0>"
      ]
     },
     "execution_count": 4,
     "metadata": {},
     "output_type": "execute_result"
    }
   ],
   "source": [
    "import unittest\n",
    "\n",
    "class TestNotebook(unittest.TestCase):\n",
    "    def test_equal(self):\n",
    "        self.assertEqual([1, 2, 3], [1, 2, 4])\n",
    "        \n",
    "unittest.main(argv=[''], verbosity=0, exit=False)"
   ]
  },
  {
   "cell_type": "code",
   "execution_count": 5,
   "id": "c17d214f",
   "metadata": {
    "slideshow": {
     "slide_type": "skip"
    }
   },
   "outputs": [],
   "source": [
    "#pip install ipytest\n",
    "\n",
    "import ipytest\n",
    "ipytest.autoconfig(rewrite_asserts=True)"
   ]
  },
  {
   "cell_type": "code",
   "execution_count": 6,
   "id": "d5ac23c0",
   "metadata": {
    "slideshow": {
     "slide_type": "slide"
    }
   },
   "outputs": [
    {
     "name": "stdout",
     "output_type": "stream",
     "text": [
      "\u001b[31mF\u001b[0m\u001b[31m                                                                                            [100%]\u001b[0m\n",
      "============================================= FAILURES =============================================\n",
      "\u001b[31m\u001b[1m____________________________________________ test_equal ____________________________________________\u001b[0m\n",
      "\n",
      "    \u001b[94mdef\u001b[39;49;00m \u001b[92mtest_equal\u001b[39;49;00m():\n",
      ">       \u001b[94massert\u001b[39;49;00m [\u001b[94m1\u001b[39;49;00m, \u001b[94m2\u001b[39;49;00m, \u001b[94m3\u001b[39;49;00m] == [\u001b[94m1\u001b[39;49;00m, \u001b[94m2\u001b[39;49;00m, \u001b[94m4\u001b[39;49;00m]\n",
      "\u001b[1m\u001b[31mE       assert [1, 2, 3] == [1, 2, 4]\u001b[0m\n",
      "\u001b[1m\u001b[31mE         At index 2 diff: 3 != 4\u001b[0m\n",
      "\u001b[1m\u001b[31mE         Use -v to get more diff\u001b[0m\n",
      "\n",
      "\u001b[1m\u001b[31m/var/folders/d8/5h2yzdf10l1g61kn0zdfs08h0000gn/T/ipykernel_95563/3339171817.py\u001b[0m:2: AssertionError\n",
      "===================================== short test summary info ======================================\n",
      "FAILED tmpjko5ops2.py::test_equal - assert [1, 2, 3] == [1, 2, 4]\n",
      "\u001b[31m\u001b[31m\u001b[1m1 failed\u001b[0m\u001b[31m in 0.04s\u001b[0m\u001b[0m\n"
     ]
    }
   ],
   "source": [
    "%%ipytest\n",
    "def test_equal():\n",
    "    assert [1, 2, 3] == [1, 2, 4]"
   ]
  },
  {
   "cell_type": "code",
   "execution_count": 8,
   "id": "b09fb681",
   "metadata": {
    "slideshow": {
     "slide_type": "slide"
    }
   },
   "outputs": [
    {
     "name": "stdout",
     "output_type": "stream",
     "text": [
      "Module(\n",
      "    body=[\n",
      "        Assert(\n",
      "            test=Compare(\n",
      "                left=List(\n",
      "                    elts=[\n",
      "                        Constant(value=1),\n",
      "                        Constant(value=2),\n",
      "                        Constant(value=3)],\n",
      "                    ctx=Load()),\n",
      "                ops=[\n",
      "                    Eq()],\n",
      "                comparators=[\n",
      "                    List(\n",
      "                        elts=[\n",
      "                            Constant(value=1),\n",
      "                            Constant(value=2),\n",
      "                            Constant(value=4)],\n",
      "                        ctx=Load())]))],\n",
      "    type_ignores=[])\n"
     ]
    }
   ],
   "source": [
    "import ast\n",
    "\n",
    "code = \"assert [1, 2, 3] == [1, 2, 4]\"\n",
    "\n",
    "tree = ast.parse(code)\n",
    "\n",
    "print(ast.dump(tree, indent=4))"
   ]
  },
  {
   "cell_type": "markdown",
   "id": "112aeb1c",
   "metadata": {
    "slideshow": {
     "slide_type": "slide"
    }
   },
   "source": [
    "![Visit AST](https://github.com/gr33ndata/notebooks/blob/master/notebooks/PytestAST/images/visit_ast.png?raw=true)"
   ]
  },
  {
   "cell_type": "code",
   "execution_count": null,
   "id": "695c3460",
   "metadata": {},
   "outputs": [],
   "source": [
    "if "
   ]
  }
 ],
 "metadata": {
  "celltoolbar": "Slideshow",
  "kernelspec": {
   "display_name": "Python 3 (ipykernel)",
   "language": "python",
   "name": "python3"
  },
  "language_info": {
   "codemirror_mode": {
    "name": "ipython",
    "version": 3
   },
   "file_extension": ".py",
   "mimetype": "text/x-python",
   "name": "python",
   "nbconvert_exporter": "python",
   "pygments_lexer": "ipython3",
   "version": "3.9.12"
  }
 },
 "nbformat": 4,
 "nbformat_minor": 5
}
